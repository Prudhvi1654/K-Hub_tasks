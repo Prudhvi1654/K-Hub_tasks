{
  "nbformat": 4,
  "nbformat_minor": 0,
  "metadata": {
    "colab": {
      "provenance": [],
      "authorship_tag": "ABX9TyM1IztZkjlfWM+W+BhrYuKW",
      "include_colab_link": true
    },
    "kernelspec": {
      "name": "python3",
      "display_name": "Python 3"
    },
    "language_info": {
      "name": "python"
    }
  },
  "cells": [
    {
      "cell_type": "markdown",
      "metadata": {
        "id": "view-in-github",
        "colab_type": "text"
      },
      "source": [
        "<a href=\"https://colab.research.google.com/github/Prudhvi1654/K-Hub_tasks/blob/main/D_1_Task1_pybasics.ipynb\" target=\"_parent\"><img src=\"https://colab.research.google.com/assets/colab-badge.svg\" alt=\"Open In Colab\"/></a>"
      ]
    },
    {
      "cell_type": "markdown",
      "source": [
        "<h1>03/08/2025</<h1>\n",
        "<h4>python basics</h4>\n",
        "<h6>1.strings, string methods\n",
        ", boolean, operators</h6>\n"
      ],
      "metadata": {
        "id": "LI86156pIQoL"
      }
    },
    {
      "cell_type": "markdown",
      "source": [
        "<h2>STRINGS</h2>\n"
      ],
      "metadata": {
        "id": "k9APPi3mjYqx"
      }
    },
    {
      "cell_type": "code",
      "execution_count": 48,
      "metadata": {
        "colab": {
          "base_uri": "https://localhost:8080/"
        },
        "id": "1K1VGw9pII6F",
        "outputId": "22c39d18-5b42-4a34-f047-d5cbca0aa570",
        "collapsed": true
      },
      "outputs": [
        {
          "output_type": "stream",
          "name": "stdout",
          "text": [
            "hello\n",
            "hello\n",
            "it's alright\n",
            "she is \"prudhvi\"\n",
            "prdhvi\n",
            "prudhvi poojitha\n",
            "e\n",
            "a\n",
            "p\n",
            "p\n",
            "l\n",
            "e\n",
            "9\n",
            "True\n",
            "yes, 'world' is present\n",
            "no ,'world'is not present. \n"
          ]
        }
      ],
      "source": [
        "#strings: used in single and double quotes.\n",
        "#(' ')(\" \")\n",
        "print('hello')\n",
        "print(\"hello\")\n",
        "\n",
        "#quotes insisde quotes:\n",
        "print(\"it's alright\")\n",
        "print('she is \"prudhvi\"')\n",
        "\n",
        "#assign string to variable\n",
        "a=\"prdhvi\"\n",
        "print(a)\n",
        "\n",
        "#multiline strings\n",
        "a=\"\"\"prudhvi poojitha\"\"\"\n",
        "print(a)\n",
        "b='''xyz'''\n",
        "\n",
        "#strings and arrays\n",
        "#a single character is simply a string with a lenght of 1\n",
        "#square brackets can be used to access elements of a string\n",
        "c=\"hello, world!\"\n",
        "print(c[1])\n",
        "\n",
        "#looping through a string\n",
        "#by using for loop\n",
        "for x in \"apple\":\n",
        "  print(x)\n",
        "\n",
        "#string length: to get length of the string use (len()) function\n",
        "d=\"hey there\"\n",
        "print(len(d))\n",
        "\n",
        "#check string:if you want to check any phrase or character is present {it returns TRUE or FALSE}\n",
        "txt=\"the best thimgs in life are free\"\n",
        "print(\"life\" in txt)\n",
        "\n",
        "#using if statement\n",
        "e =\" world is beautiful\"\n",
        "if \"world\" in e:\n",
        "  print(\"yes, 'world' is present\")\n",
        "\n",
        "#check if not :it is used if the certain phrase or character is not present then NOT in is used\n",
        "f= \"life is beautiful\"\n",
        "if \"world\" not in f:\n",
        " print(\"no ,'world'is not present. \")\n",
        "\n",
        "\n",
        "\n"
      ]
    },
    {
      "cell_type": "markdown",
      "source": [
        "<h2>STRING METHODS</h2>"
      ],
      "metadata": {
        "id": "kQrJTPXsjIYb"
      }
    },
    {
      "cell_type": "code",
      "source": [
        " '''STRING METHODS: it has a set of built in methods that you can use on strings.\n",
        "upper case - .upper()\n",
        "lower case - .lower()\n",
        "remove white space - .strip()\n",
        "replace string - .replace()\n",
        "split - .split()...upto 26\n",
        "\n",
        "'''\n",
        "#upper case\n",
        "a=\"hello\"\n",
        "print(a.upper())\n",
        "\n",
        "#lower case\n",
        "b= \"world\"\n",
        "print(b.lower())\n",
        "\n",
        "#remove white spaces\n",
        "c=\" hello world!\"\n",
        "print(c.strip())\n",
        "\n",
        "#replace\n",
        "d = \"hey there\"\n",
        "print(d.replace(\"h\",\"j\"))\n",
        "\n",
        "#split case\n",
        "e = \"hi world hello\"\n",
        "print(e.split())\n",
        "\n",
        "#swap case\n",
        "txt= \"Hey There Is an Event\"\n",
        "x = txt.swapcase()\n",
        "print(x)\n",
        "\n",
        "#title method()\n",
        "abc= \"hey there i'm prudhvi\"\n",
        "x = abc.title()\n",
        "print(x)\n",
        "\n",
        "#zfill()\n",
        "ab =\"77\"\n",
        "y= ab.zfill(10)\n",
        "print(y)\n",
        "\n",
        "#translate():use a dictionary with ascii codes to replace (S) with (W)\n",
        "#the value of S is 83 so, the value of 87 is W\n",
        "\n",
        "mydict = {83: 87}\n",
        "txt =\"Hello Sam!\"\n",
        "print(txt.translate(mydict))\n",
        "\n",
        "#strip case ()\n",
        "xy = \"    mango    \"\n",
        "z = xy.strip()\n",
        "print(\"of all fruits\",z, \"is my fav\")\n",
        "\n",
        "#starts with()\n",
        "pq = \"python world\"\n",
        "print(pq.startswith(\"python\"))\n",
        "\n",
        "#splitlines()\n",
        "xy =\"once upon a time\\nThere is a jungle\"\n",
        "z = xy.splitlines()\n",
        "print(z)"
      ],
      "metadata": {
        "colab": {
          "base_uri": "https://localhost:8080/"
        },
        "id": "A65jVRtLZ5KH",
        "outputId": "2cfd2c56-180f-42ef-b427-8e0d0709225c"
      },
      "execution_count": 49,
      "outputs": [
        {
          "output_type": "stream",
          "name": "stdout",
          "text": [
            "HELLO\n",
            "world\n",
            "hello world!\n",
            "jey tjere\n",
            "['hi', 'world', 'hello']\n",
            "hEY tHERE iS AN eVENT\n",
            "Hey There I'M Prudhvi\n",
            "0000000077\n",
            "Hello Wam!\n",
            "of all fruits mango is my fav\n",
            "True\n",
            "['once upon a time', 'There is a jungle']\n"
          ]
        }
      ]
    },
    {
      "cell_type": "markdown",
      "source": [
        "<h2> BOOLEAN</h2>\n",
        "\n"
      ],
      "metadata": {
        "id": "bmWgaw1VjpMG"
      }
    },
    {
      "cell_type": "code",
      "source": [
        "#python BOOLEAN: represents one of two values; TRUE or FALSE\n",
        "print(10<9)\n",
        "print(10==9)\n",
        "print (10>9)\n",
        "\n",
        "#when you run a condition in an if statement, python return True or False\n",
        "#prints the msg based on whether the condition is true or false\n",
        "a = 250\n",
        "b = 30\n",
        "if b > a :\n",
        "  print(\"b is greater than a \")\n",
        "else:\n",
        "  print (\" b is not greater than a \")\n",
        "\n",
        "# Evaluate values and variables\n",
        "#the bool() function allows you to evaluate any value and give you true or false in return,\n",
        "print(bool(\"hello\"))\n",
        "print(bool(15))\n",
        "#here within the parameters it should not be empty\n",
        " # evaluate two variables\n",
        "x =\"hello\"\n",
        "y =\"15\"\n",
        "print(x)\n",
        "print(y)\n",
        "\n",
        "bool(\"abc\")\n",
        "bool(123)\n",
        "bool([\"apple\", \"mango\"])\n",
        "\n",
        "#some values are false : if there is not many values evaluate to false\n",
        "bool(\"false\")\n",
        "bool(\"none\")\n",
        "bool()\n",
        "bool(0)\n",
        "bool([])\n",
        "bool({})\n",
        "\n",
        "\n"
      ],
      "metadata": {
        "colab": {
          "base_uri": "https://localhost:8080/"
        },
        "id": "1xcoQVfjaH01",
        "outputId": "dfbe6b45-d3ad-4c74-8ffd-3b860175053d"
      },
      "execution_count": 50,
      "outputs": [
        {
          "output_type": "stream",
          "name": "stdout",
          "text": [
            "False\n",
            "False\n",
            "True\n",
            " b is not greater than a \n",
            "True\n",
            "True\n",
            "hello\n",
            "15\n"
          ]
        },
        {
          "output_type": "execute_result",
          "data": {
            "text/plain": [
              "False"
            ]
          },
          "metadata": {},
          "execution_count": 50
        }
      ]
    },
    {
      "cell_type": "markdown",
      "source": [
        "<h2>operators</h2>\n"
      ],
      "metadata": {
        "id": "pcj5ElLCj2_k"
      }
    },
    {
      "cell_type": "code",
      "source": [
        "#python operators: used to perform operations on variables and values\n",
        "\n",
        "#Arithmetic operators:\n",
        "x= 10\n",
        "y=30\n",
        "print(x+y) #addition\n",
        "print(x-y) #subtracton\n",
        "print(x*y) #multiplication\n",
        "print(x/y) #division\n",
        "print(x%y) #Modulus\n",
        "print(x**y) # exponention\n",
        "print(x//y) #floor division\n",
        "\n",
        "#Assignment Operators\n",
        "x = 5  # Assignment operator (=)\n",
        "a = 3\n",
        "a += 2  # Addition Assignment (+=)\n",
        "print(a)\n",
        "b = 6\n",
        "b -= 1  # Subtraction Assignment (-=)\n",
        "print(b)\n",
        "c = 4\n",
        "c = 3  # Multiplication Assignment (=)\n",
        "print(c)\n",
        "d = 10\n",
        "d /= 2  # Division Assignment (/=)\n",
        "print(d)\n",
        "e = 9\n",
        "e %= 4  # Modulus Assignment (%=)\n",
        "print(e)\n",
        "f = 3\n",
        "f *= 2  # Exponentiation Assignment (*=)\n",
        "print(f)\n",
        "g = 13\n",
        "g //= 2  # Floor Division Assignment (//=)\n",
        "print(g)\n",
        "\n",
        "#comparision operators\n",
        "\n",
        "a = 10\n",
        "b = 5\n",
        "print(a == b)   # Equal to (==)\n",
        "print(a != b)   # Not equal to (!=)\n",
        "print(a > b)    # Greater than (>)\n",
        "print(a < b)    # Less than (<)\n",
        "print(a >= b)   # Greater than or equal to (>=)\n",
        "print(a <= b)   # Less than or equal to (<=)\n",
        "\n",
        "#Logical operators\n",
        "a = True\n",
        "b = False\n",
        "print(a and b)   # False — because both are not True\n",
        "print(a or b)    # True — because at least one is True\n",
        "print(not a)     # False — because a is True, and not(True) is False.\n",
        "\n",
        "#bitwise operators\n",
        "x = 12    # Binary: 1100\n",
        "y = 5     # Binary: 0101\n",
        "\n",
        "print(x & y)    # Bitwise AND (&)\n",
        "print(x | y)    # Bitwise OR (|)\n",
        "print(x ^ y)    # Bitwise XOR (^)\n",
        "print(x)       # Bitwise NOT (~)\n",
        "print(x << 1)   # Left Shift (<<)\n",
        "print(x >> 1)   # Right Shift (>>)\n",
        "\n",
        "#Identity Operators\n",
        "'''\n",
        "is\tTrue if both refer to the same object\tx is y\n",
        "is not\tTrue if they refer to different objects\tx is not y\n",
        "'''\n",
        "p = [1, 2, 3]\n",
        "q = p\n",
        "r = [1, 2, 3]\n",
        "\n",
        "print(p is q)      # True, because q points to the same list as p\n",
        "print(p is r)      # False, because r is a different list (even if values are same)\n",
        "print(p == r)      # True, because values inside the lists are the same\n",
        "\n",
        "#Membership Operators\n",
        "#if a character is in a string\n",
        "print('a' in 'cat')\n",
        "\n",
        "#if a number is in a list\n",
        "print(5 in [1, 2, 3, 4])\n",
        "\n",
        "#if a key is in a dictionary\n",
        "my_dict = {'name': 'prudhvi', 'age': 19}\n",
        "print('age' in my_dict)\n",
        "\n",
        "#if an item is NOT in a tuple\n",
        "print(10 not in (1, 2, 3))\n",
        "\n"
      ],
      "metadata": {
        "colab": {
          "base_uri": "https://localhost:8080/"
        },
        "id": "Okl9plyUbTzQ",
        "outputId": "c237295b-ac21-40c1-acbf-852b0349c763"
      },
      "execution_count": 51,
      "outputs": [
        {
          "output_type": "stream",
          "name": "stdout",
          "text": [
            "40\n",
            "-20\n",
            "300\n",
            "0.3333333333333333\n",
            "10\n",
            "1000000000000000000000000000000\n",
            "0\n",
            "5\n",
            "5\n",
            "3\n",
            "5.0\n",
            "1\n",
            "6\n",
            "6\n",
            "False\n",
            "True\n",
            "True\n",
            "False\n",
            "True\n",
            "False\n",
            "False\n",
            "True\n",
            "False\n",
            "4\n",
            "13\n",
            "9\n",
            "12\n",
            "24\n",
            "6\n",
            "True\n",
            "False\n",
            "True\n",
            "True\n",
            "False\n",
            "True\n",
            "True\n"
          ]
        }
      ]
    },
    {
      "cell_type": "markdown",
      "source": [
        "<h2>LISTS</h2>"
      ],
      "metadata": {
        "id": "8ImV0NsXpk6W"
      }
    },
    {
      "cell_type": "code",
      "source": [
        "\n",
        "#Lists are used to store multiple items in a single variable.\n",
        "mylist1 = [\"berry\", \"kiwi\", \"mango\"]\n",
        "print(mylist1)\n",
        "\n",
        "#Allow Duplicates\n",
        "mylist2 = [\"berry\", \"kiwi\", \"mango\", \"berry\",\"mango\"]\n",
        "print(mylist2)\n",
        "\n",
        "#List Length: how many items a list has, use the len() function\n",
        "mylist3 = [\"berry\", \"kiwi\", \"mango\", \"grapes\"]\n",
        "print(len(mylist3))\n",
        "\n",
        "#List Items - Data Types List items can be of any data type\n",
        "list1 = [\"apple\", \"banana\", \"cherry\"]\n",
        "list2 = [1, 5, 7, 9, 3]\n",
        "list3 = [True, False, False]\n",
        "#A list with strings, integers and boolean values\n",
        "lis1 = [\"abc\", 34, True, 40, \"female\"]\n",
        "\n",
        "\n",
        "#Check if Item Exists\n",
        "thislist = [\"apple\", \"banana\", \"cherry\"]\n",
        "if \"apple\" in thislist:\n",
        "  print(\"Yes, 'apple' is in the fruits list\")\n",
        "\n",
        "\n",
        "\n",
        "\n"
      ],
      "metadata": {
        "colab": {
          "base_uri": "https://localhost:8080/"
        },
        "id": "LCoa7zz6qXfK",
        "outputId": "07f386b8-9b07-4e1d-e5ef-dc05601d0fc4"
      },
      "execution_count": 52,
      "outputs": [
        {
          "output_type": "stream",
          "name": "stdout",
          "text": [
            "['berry', 'kiwi', 'mango']\n",
            "['berry', 'kiwi', 'mango', 'berry', 'mango']\n",
            "4\n",
            "Yes, 'apple' is in the fruits list\n"
          ]
        }
      ]
    },
    {
      "cell_type": "markdown",
      "source": [
        "type()"
      ],
      "metadata": {
        "id": "_nKbfGEjxdRU"
      }
    },
    {
      "cell_type": "code",
      "source": [
        "mylist = [\"apple\", \"banana\", \"cherry\"]\n",
        "print(type(mylist)) #<class 'list'>\n",
        "\n",
        "#list() Constructor: used to create nwe list\n",
        "list((\"apple\", \"banana\"))\n",
        "list(\"hello\")\n",
        "\n",
        "#Access Items\n",
        "thislist = [\"apple\", \"banana\", \"cherry\"]\n",
        "print(thislist[1])\n"
      ],
      "metadata": {
        "colab": {
          "base_uri": "https://localhost:8080/"
        },
        "id": "rBAMx3NUxcIM",
        "outputId": "ba4f595b-a976-48f9-f788-df26d0a6a233"
      },
      "execution_count": 53,
      "outputs": [
        {
          "output_type": "stream",
          "name": "stdout",
          "text": [
            "<class 'list'>\n",
            "banana\n"
          ]
        }
      ]
    },
    {
      "cell_type": "code",
      "source": [
        "#Negative Indexing\n",
        "thislist = [\"apple\", \"banana\", \"cherry\"]\n",
        "print(thislist[-1]) #prints the last name\n",
        "\n",
        "#Range of Indexes : where to start and where to end the range.\n",
        "thislist = [\"apple\", \"banana\", \"cherry\", \"orange\", \"kiwi\", \"melon\", \"mango\"]\n",
        "print(thislist[2:5]) #This will return the items from position 2 to 5.\n",
        "#and 5 is NOT included\n",
        "\n",
        "#Range of Negative Indexes\n",
        "thislist = [\"apple\", \"banana\", \"cherry\", \"orange\", \"kiwi\", \"melon\", \"mango\"]\n",
        "print(thislist[-4:-1])#Negative indexing means starting from the end of the list.\n"
      ],
      "metadata": {
        "colab": {
          "base_uri": "https://localhost:8080/"
        },
        "id": "MQ-jq6E7xokp",
        "outputId": "c6ce356f-fa17-470b-f0cf-225c41afbd2e"
      },
      "execution_count": 54,
      "outputs": [
        {
          "output_type": "stream",
          "name": "stdout",
          "text": [
            "cherry\n",
            "['cherry', 'orange', 'kiwi']\n",
            "['orange', 'kiwi', 'melon']\n"
          ]
        }
      ]
    },
    {
      "cell_type": "code",
      "source": [
        "#Change Item Value\n",
        "thislist = [\"apple\", \"banana\", \"cherry\"]\n",
        "thislist[1] = \"blackcurrant\"\n",
        "print(thislist)"
      ],
      "metadata": {
        "colab": {
          "base_uri": "https://localhost:8080/"
        },
        "id": "vePicFW6xvsY",
        "outputId": "36dc1743-8c24-4d95-b76a-c15ba18144b5"
      },
      "execution_count": 55,
      "outputs": [
        {
          "output_type": "stream",
          "name": "stdout",
          "text": [
            "['apple', 'blackcurrant', 'cherry']\n"
          ]
        }
      ]
    },
    {
      "cell_type": "code",
      "source": [
        "#Add List Items\n",
        "thislist = [\"apple\", \"banana\", \"cherry\"]\n",
        "thislist.append(\"orange\")\n",
        "print(thislist)\n",
        "#insert\n",
        "thislist = [\"apple\", \"banana\", \"cherry\"]\n",
        "thislist.insert(1, \"orange\")\n",
        "print(thislist)\n",
        "#Extend List\n",
        "thislist = [\"apple\", \"banana\", \"cherry\"]\n",
        "tropical = [\"mango\", \"pineapple\", \"papaya\"]\n",
        "thislist.extend(tropical)\n",
        "print(thislist)\n",
        "\n",
        "#Remove\n",
        "thislist = [\"apple\", \"banana\", \"cherry\"]\n",
        "thislist.remove(\"banana\")\n",
        "print(thislist)\n",
        "\n",
        "#Remove Specified Index\n",
        "thislist = [\"apple\", \"banana\", \"cherry\"]\n",
        "thislist.pop(1)\n",
        "print(thislist)\n",
        "\n",
        "#Clear the List\n",
        "thislist = [\"apple\", \"banana\", \"cherry\"]\n",
        "thislist.clear()\n",
        "print(thislist)\n",
        "\n",
        "\n"
      ],
      "metadata": {
        "colab": {
          "base_uri": "https://localhost:8080/"
        },
        "id": "5Dlp0GvIyKx8",
        "outputId": "f85e8e4d-265b-45b5-b937-b53e276637c0"
      },
      "execution_count": 56,
      "outputs": [
        {
          "output_type": "stream",
          "name": "stdout",
          "text": [
            "['apple', 'banana', 'cherry', 'orange']\n",
            "['apple', 'orange', 'banana', 'cherry']\n",
            "['apple', 'banana', 'cherry', 'mango', 'pineapple', 'papaya']\n",
            "['apple', 'cherry']\n",
            "['apple', 'cherry']\n",
            "[]\n"
          ]
        }
      ]
    },
    {
      "cell_type": "code",
      "source": [
        "#Loop Lists\n",
        "thislist = [\"apple\", \"banana\", \"cherry\"]\n",
        "for x in thislist:\n",
        "  print(x)\n",
        "\n",
        "#Using a While Loop\n",
        "thislist = [\"apple\", \"banana\", \"cherry\"]\n",
        "i = 0\n",
        "while i < len(thislist):\n",
        "  print(thislist[i])\n",
        "  i = i + 1"
      ],
      "metadata": {
        "colab": {
          "base_uri": "https://localhost:8080/"
        },
        "id": "IVrx4rrYzJKi",
        "outputId": "ec7f2693-15d9-4c1e-e657-b49d4bb6fc8c"
      },
      "execution_count": 57,
      "outputs": [
        {
          "output_type": "stream",
          "name": "stdout",
          "text": [
            "apple\n",
            "banana\n",
            "cherry\n",
            "apple\n",
            "banana\n",
            "cherry\n"
          ]
        }
      ]
    },
    {
      "cell_type": "markdown",
      "source": [
        "<h1>tuples </h1>\n",
        "<h6>Tuples are used to store multiple items in a single variable</h6>\n"
      ],
      "metadata": {
        "id": "Z_Yj38yA0RwV"
      }
    },
    {
      "cell_type": "code",
      "source": [
        "thistuple = (\"apple\", \"banana\", \"cherry\")\n",
        "print(thistuple)\n",
        "\n",
        "# its also allows duplicate values\n",
        "\n",
        "#Tuple length\n",
        "thistuple = (\"blackcurrant, watermelon\")\n",
        "print(len(thistuple))\n",
        "\n",
        "# Access tuple items\n",
        "thistuple = (\"blackcurrant\" , \"watermelon\", \" cherry\")\n",
        "print(thistuple[1])\n",
        "\n",
        "#Negative Indexing\n",
        "print(thistuple[-1])\n",
        "\n",
        "#Range of Indexes\n",
        "thistuple = (\"apple\", \"banana\", \"cherry\", \"orange\", \"kiwi\", \"melon\", \"mango\")\n",
        "print(thistuple[2:5])\n",
        "\n",
        "# Update Tuples\n",
        "\n",
        "#Change Tuple Values\n",
        "x = (\"apple\", \"banana\", \"cherry\")\n",
        "y = list(x)\n",
        "y[1] = \"kiwi\"\n",
        "x = tuple(y)\n",
        "\n",
        "print(x)\n",
        "\n",
        "#Add Items\n",
        "thistuple = (\"apple\", \"banana\", \"cherry\")\n",
        "y = list(thistuple)\n",
        "y.append(\"orange\")\n",
        "thistuple = tuple(y)\n",
        "print(thistuple)\n",
        "\n",
        "#Remove Items\n",
        "thistuple = (\"apple\", \"banana\", \"cherry\")\n",
        "y = list(thistuple)\n",
        "y.remove(\"apple\")\n",
        "thistuple = tuple(y)\n",
        "print(thistuple)\n",
        "\n",
        "\n",
        "#Join Two Tuples\n",
        "tuple1 = (\"a\", \"b\" , \"c\")\n",
        "tuple2 = (1, 2, 3)\n",
        "\n",
        "tuple3 = tuple1 + tuple2\n",
        "print(tuple3)\n",
        "\n",
        "#Multiply Tuples\n",
        "fruits = ('cherry', 'strawberry', 'raspberry')\n",
        "mytuple = fruits * 3\n",
        "print(mytuple)\n",
        "\n",
        "#Tuple Methods\n",
        "thistuple = (1, 3, 7, 8, 7, 5, 4, 6, 8, 5)\n",
        "x = thistuple.count(5)\n",
        "print(x)\n",
        "\n",
        "\n"
      ],
      "metadata": {
        "colab": {
          "base_uri": "https://localhost:8080/"
        },
        "id": "jSb4OzrV0WhD",
        "outputId": "3bfe7275-6952-4b8b-e21a-a581f3841359"
      },
      "execution_count": 63,
      "outputs": [
        {
          "output_type": "stream",
          "name": "stdout",
          "text": [
            "('apple', 'banana', 'cherry')\n",
            "24\n",
            "watermelon\n",
            " cherry\n",
            "('cherry', 'orange', 'kiwi')\n",
            "('apple', 'kiwi', 'cherry')\n",
            "('apple', 'banana', 'cherry', 'orange')\n",
            "('banana', 'cherry')\n",
            "('a', 'b', 'c', 1, 2, 3)\n",
            "('cherry', 'strawberry', 'raspberry', 'cherry', 'strawberry', 'raspberry', 'cherry', 'strawberry', 'raspberry')\n",
            "2\n"
          ]
        }
      ]
    },
    {
      "cell_type": "markdown",
      "source": [
        "<h1>sets</h1>"
      ],
      "metadata": {
        "id": "dAxUj5uQ1cor"
      }
    },
    {
      "cell_type": "code",
      "source": [
        "myset = {\"kiwi\", \"melon\", \"grape\"}\n",
        "print(myset)\n",
        "\n",
        "#duplicates not allowed in sets\n",
        "myset = {\"kiwi\", \"melon\", \"grape\",\"kiwi\"}\n",
        "print(myset)\n",
        "\n",
        "#True and 1 is considered the same value:\n",
        "myset = {\"kiwi\", \"melon\", \"grape\",\"kiwi\",True,1,2}\n",
        "print(myset)\n",
        "\n",
        "#False and 0 is considered the same value:\n",
        "myset = {\"kiwi\", \"melon\", \"grape\",\"kiwi\",False,0,1}\n",
        "print(myset)\n",
        "\n",
        "#Get the Length of a Set\n",
        "myset = {\"orange\",\"apple\", \"mango\"}\n",
        "print(len(myset))\n",
        "\n",
        "#type()\n",
        "myset = {\"orange\" , \"apple\",  \"mango\"}\n",
        "print(type(myset))\n",
        "\n",
        "#access set items\n",
        "myset = {\"orange\" , \"apple\",  \"mango\"}\n",
        "for x in myset:\n",
        "\n",
        "  print(x)\n",
        "\n",
        "#element present in the set using \"in\" keyword\n",
        "print(\"mango\" in myset)\n",
        "\n",
        "#element not present in the set using \"not in\" keyword\n",
        "print(\"kiwi\" not in myset)\n",
        "\n",
        "print(\"cherry\" in myset)\n",
        "\n",
        "#add set ittems\n",
        "myset = {\"kiwi\", \"grape\", \"melon\"}\n",
        "myset.add(\"orange\")\n",
        "print(\"myset\")\n",
        "\n",
        "#Add Sets\n",
        "bag1 = {\"mango\", \"pineapple\",\"rasberry\"}\n",
        "bag2 = {\"grapes\", \"kiwi\", \"cherry\"}\n",
        "\n",
        "bag1.update(bag2)\n",
        "print(bag1)\n",
        "\n",
        "#reomve set items\n",
        "fruits = {\"apple\", \"banana\", \"cherry\"}\n",
        "fruits.remove(\"banana\")\n",
        "print(fruits)\n",
        "fruits.discard(\"cherry\")\n",
        "print(fruits)\n",
        "\n",
        "#Remove a random item by using the pop() method:\n",
        "fruits = {\"promogrnite\", \"banana\", \"kiwi\"}\n",
        "x = fruits.pop()\n",
        "print(x)\n",
        "print(fruits)\n",
        "\n",
        "# Clear() using this keyword it clears the complete set\n",
        "fruits = {\"promogrnite\", \"banana\", \"kiwi\"}\n",
        "x = fruits.clear()\n",
        "print(fruits)"
      ],
      "metadata": {
        "colab": {
          "base_uri": "https://localhost:8080/"
        },
        "id": "zg0xXOFU1gCD",
        "outputId": "3358db71-78a7-4496-bfec-f21f85fc7b26"
      },
      "execution_count": 59,
      "outputs": [
        {
          "output_type": "stream",
          "name": "stdout",
          "text": [
            "{'grape', 'kiwi', 'melon'}\n",
            "{'grape', 'kiwi', 'melon'}\n",
            "{'grape', True, 2, 'kiwi', 'melon'}\n",
            "{False, 1, 'grape', 'kiwi', 'melon'}\n",
            "3\n",
            "<class 'set'>\n",
            "mango\n",
            "orange\n",
            "apple\n",
            "True\n",
            "True\n",
            "False\n",
            "myset\n",
            "{'grapes', 'rasberry', 'cherry', 'kiwi', 'pineapple', 'mango'}\n",
            "{'cherry', 'apple'}\n",
            "{'apple'}\n",
            "banana\n",
            "{'promogrnite', 'kiwi'}\n",
            "set()\n"
          ]
        }
      ]
    },
    {
      "cell_type": "code",
      "source": [
        "#union or |\n",
        "\n",
        "set1 = {\"a\", \"b\", \"c\", 'd', \"f\"}\n",
        "set2 = {1, 2, 3}\n",
        "set3 = set1 | set2\n",
        "print(set3)\n",
        "\n",
        "#Join Multiple Sets\n",
        "set1 = {\"a\", \"b\" , \"c\"}\n",
        "set2 = {1, 2, 3}\n",
        "set3 = {True, False, False}\n",
        "set4 = {\"kiwi\", \"cherry\"}\n",
        "myset = set1.union(set2, set3, set4)\n",
        "print(myset)\n",
        "\n",
        "#join set and a tuple\n",
        "x = {\"arjun\",\"krishna\",\"ravi\"}\n",
        "y = (1, 2, 3)\n",
        "z = x.union(y)\n",
        "print(z)\n",
        "\n",
        "#intersection or &\n",
        "x = {\"apple\", \"wipro\", \"deloitte\"}\n",
        "y = {\"google\", \"microsoft\", \"apple\"}\n",
        "z = x.intersection(y)\n",
        "print(z)\n",
        "\n",
        "# Difference or -\n",
        "x = {\"apple\", \"wipro\", \"deloitte\"}\n",
        "y = {\"google\", \"microsoft\", \"apple\"}\n",
        "z = x.difference(y)\n",
        "print(z)\n",
        "\n",
        "#Symmetric Differences or ^\n",
        "x = {\"apple\", \"wipro\", \"deloitte\",\"tcs\"}\n",
        "y = {\"google\", \"microsoft\", \"apple\", \"amazon\"}\n",
        "z = x.symmetric_difference(y)\n",
        "print(z)\n",
        "\n",
        "\n",
        "#set methods\n",
        "original_set = {1, 2, 3, 4}\n",
        "copied_set = original_set.copy()\n",
        "original_set.add(5)\n",
        "copied_set.remove(1)\n",
        "print(\"Original Set:\", original_set)\n",
        "print(\"Copied Set:\", copied_set)\n",
        "\n",
        "\n"
      ],
      "metadata": {
        "colab": {
          "base_uri": "https://localhost:8080/"
        },
        "id": "1OeDCcS-24kj",
        "outputId": "e85a5190-9ba8-4c86-c1dd-3b63a1ca7db4"
      },
      "execution_count": 60,
      "outputs": [
        {
          "output_type": "stream",
          "name": "stdout",
          "text": [
            "{'a', 1, 2, 'c', 3, 'd', 'b', 'f'}\n",
            "{False, 1, 2, 3, 'kiwi', 'b', 'a', 'c', 'cherry'}\n",
            "{1, 2, 3, 'arjun', 'ravi', 'krishna'}\n",
            "{'apple'}\n",
            "{'deloitte', 'wipro'}\n",
            "{'tcs', 'amazon', 'google', 'deloitte', 'microsoft', 'wipro'}\n",
            "Original Set: {1, 2, 3, 4, 5}\n",
            "Copied Set: {2, 3, 4}\n"
          ]
        }
      ]
    },
    {
      "cell_type": "markdown",
      "source": [
        "<h1>conditions and if statements</h1>"
      ],
      "metadata": {
        "id": "yh7BSaZR8-xe"
      }
    },
    {
      "cell_type": "code",
      "source": [
        "\n",
        "#if condition\n",
        "a = 20\n",
        "b = 30\n",
        "if a<b:\n",
        "  print(\"a is greater than b\")\n",
        "\n",
        "#elif\n",
        "a = 200\n",
        "b = 200\n",
        "if b > a:\n",
        "  print(\"b is greater than a\")\n",
        "elif a == b:\n",
        "  print(\"a and b are equal\")\n",
        "\n",
        "#And\n",
        "a = 200\n",
        "b = 33\n",
        "c = 500\n",
        "if a > b and c > a:\n",
        "  print(\"Both conditions are True\")\n",
        "\n",
        "#OR\n",
        "a = 200\n",
        "b = 33\n",
        "c = 500\n",
        "if a > b or c < a:\n",
        "  print(\"Both conditions are True\")\n",
        "\n",
        "#not\n",
        "a = 15\n",
        "b = 20\n",
        "if not a > b:\n",
        "  print(\"a is NOT greater than b\")\n",
        "\n",
        "#Nested if\n",
        "x = 15\n",
        "\n",
        "if x > 10:\n",
        "  print(\"Above ten,\")\n",
        "  if x > 20:\n",
        "    print(\"and also above 20!\")\n",
        "  else:\n",
        "    print(\"but not above 20.\")\n",
        "\n",
        "\n",
        "#pass statement\n",
        "a = 92\n",
        "b = 39\n",
        "if a>b:\n",
        "  print(\"pass\")\n"
      ],
      "metadata": {
        "colab": {
          "base_uri": "https://localhost:8080/"
        },
        "id": "vY6Wk_4C9FtC",
        "outputId": "736176d5-ec09-4d90-a6b3-1b90f984802d"
      },
      "execution_count": 61,
      "outputs": [
        {
          "output_type": "stream",
          "name": "stdout",
          "text": [
            "a is greater than b\n",
            "a and b are equal\n",
            "Both conditions are True\n",
            "Both conditions are True\n",
            "a is NOT greater than b\n",
            "Above ten,\n",
            "but not above 20.\n",
            "pass\n"
          ]
        }
      ]
    },
    {
      "cell_type": "markdown",
      "source": [
        "<h1>MATCH CASES</h1>\n",
        "\n",
        "\n",
        "<h6>The match expression is evaluated once.\n",
        "\n",
        "The value of the expression is compared with the values of each case.\n",
        "\n",
        "If there is a match, the associated block of code is executed</h6>"
      ],
      "metadata": {
        "id": "XVUw1qi99PeZ"
      }
    },
    {
      "cell_type": "code",
      "source": [
        "day = 6\n",
        "match day:\n",
        "    case 1:\n",
        "        print(\"januaray\")\n",
        "    case 2:\n",
        "        print(\"febuaray\")\n",
        "    case 3:\n",
        "        print(\"march\")\n",
        "    case 4:\n",
        "        print(\"April\")\n",
        "    case 5:\n",
        "        print(\"may\")\n",
        "    case 6:\n",
        "        print(\"june\")\n",
        "    case 7:\n",
        "        print(\"July\")\n",
        "    case 8:\n",
        "        print(\"August\")\n",
        "    case 9:\n",
        "        print(\"September\")\n",
        "    case 10:\n",
        "        print(\"October\")\n",
        "    case 11:\n",
        "        print(\"November\")\n",
        "    case 12:\n",
        "        print(\"December\")\n",
        "\n",
        "#Default Value\n",
        "day = 4\n",
        "match day:\n",
        "  case 6:\n",
        "    print(\"Today is Saturday\")\n",
        "  case 7:\n",
        "    print(\"Today is Sunday\")\n",
        "  case _:\n",
        "    print(\"Looking forward to the Weekend\")\n",
        "\n",
        "#Combine Values.\n",
        "day = 6\n",
        "match day:\n",
        "  case 1 | 2 | 3 | 4 | 5:\n",
        "    print(\"Today is a weekday\")\n",
        "  case 6 | 7:\n",
        "    print(\"I like weekends!\")\n",
        "\n",
        "#If Statements as Guards\n",
        "#You can add if statements in the case evaluation as an extra condition-check:\n",
        "x = 20\n",
        "\n",
        "match x:\n",
        "    case int() if x > 0:\n",
        "        print(\"Positive integer\")\n",
        "    case int() if x < 0:\n",
        "        print(\"Negative integer\")\n",
        "    case int():\n",
        "        print(\"Zero\")\n",
        "    case _:\n",
        "        print(\"Not an integer\")\n"
      ],
      "metadata": {
        "colab": {
          "base_uri": "https://localhost:8080/"
        },
        "id": "hlIhfX3i9Ql3",
        "outputId": "8deefc3d-5cc2-4fb8-d6cd-018e9e82f4c6"
      },
      "execution_count": 62,
      "outputs": [
        {
          "output_type": "stream",
          "name": "stdout",
          "text": [
            "june\n",
            "Looking forward to the Weekend\n",
            "I like weekends!\n",
            "Positive integer\n"
          ]
        }
      ]
    }
  ]
}