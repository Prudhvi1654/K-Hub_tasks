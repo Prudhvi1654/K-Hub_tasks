{
  "nbformat": 4,
  "nbformat_minor": 0,
  "metadata": {
    "colab": {
      "provenance": [],
      "authorship_tag": "ABX9TyO5vcaceSi4ShutHA0ldvKx",
      "include_colab_link": true
    },
    "kernelspec": {
      "name": "python3",
      "display_name": "Python 3"
    },
    "language_info": {
      "name": "python"
    }
  },
  "cells": [
    {
      "cell_type": "markdown",
      "metadata": {
        "id": "view-in-github",
        "colab_type": "text"
      },
      "source": [
        "<a href=\"https://colab.research.google.com/github/Prudhvi1654/K-Hub_tasks/blob/main/D2_Task_2.ipynb\" target=\"_parent\"><img src=\"https://colab.research.google.com/assets/colab-badge.svg\" alt=\"Open In Colab\"/></a>"
      ]
    },
    {
      "cell_type": "markdown",
      "source": [
        "\n",
        "\n",
        "<h1>Loops and functions</h1>\n",
        "<h4> loops - Main topics</h4>\n",
        "<h6> for loop </h6>"
      ],
      "metadata": {
        "id": "ifqzCZDRhJy-"
      }
    },
    {
      "cell_type": "code",
      "source": [
        "#for loop\n",
        "for i in range (5):\n",
        "    print(\"hi\")\n",
        "\n",
        "for i in range (2,6):\n",
        "    print(i)\n",
        "\n",
        "for i in range(0,11,2):\n",
        "    print(i)\n",
        "\n",
        "#looping in reverse\n",
        "for i in range(5,0,-1):\n",
        "    print(i)\n",
        "\n",
        "names=[\"prudhvi\",\"sasi\",\"mom\",\"dad\"]\n",
        "for name in names:\n",
        "    print(name)\n",
        "\n",
        "#for loop- iterating over\n",
        "\n",
        "#LIST\n",
        "fruits=[\"mango\", \"kiwi\",\"grape\"]\n",
        "for fruit in fruits:\n",
        "    print(fruit)\n",
        "\n",
        "#STRING\n",
        "word= \"prudhvi\"\n",
        "for letters in word:\n",
        "    print(letters)\n",
        "\n",
        "#TUPLE\n",
        "numbers=(7,77,777)\n",
        "for num in numbers:\n",
        "    print(num)\n",
        "\n",
        "\n",
        "#SET\n",
        "colours={\"blue\", \"black\",\"brown\"}\n",
        "for colour in colours:\n",
        "    print(colour)\n",
        "\n",
        "#DICTIONARY\n",
        "student={\"name\":\"prudhvi\",\"age\":19,\"branch\":\"AIML\"}\n",
        "for student in student:\n",
        "    print (student)\n",
        "\n",
        "#to get both values of the keys\n",
        "student={\"name\":\"prudhvi\",\"age\":19,\"branch\":\"AIML\"}\n",
        "for student in student.items():\n",
        "    print(student)\n",
        "\n",
        "\n",
        "#while loop: runs code again & again as long as the condition is TRUE\n",
        "i = 1\n",
        "while i <= 7:\n",
        "    print(\"Hello\")\n",
        "    i = i + 1\n",
        "\n",
        "#print i as long as i is less than 6:\n",
        "\n",
        "i = 1\n",
        "while i < 6:\n",
        "  print(i)\n",
        "  i += 1"
      ],
      "metadata": {
        "id": "mn81onPDhutg"
      },
      "execution_count": null,
      "outputs": []
    },
    {
      "cell_type": "markdown",
      "source": [
        "<h2> Loop control statements</h2>\n",
        "<h5>break</h5>\n",
        "Continue\n",
        "<h5>Pass</h5>"
      ],
      "metadata": {
        "id": "rEC3Ca3BqSyZ"
      }
    },
    {
      "cell_type": "code",
      "source": [
        "\n",
        "\n",
        "#break: stops the loop\n",
        "for j in range(1, 7):\n",
        "    if j == 5:\n",
        "        break\n",
        "    print(j)\n",
        "\n",
        "#continue: skip the current loop and go to the next one\n",
        "for i in range(7, 17):\n",
        "    if i == 10:\n",
        "        continue\n",
        "    print(i)\n",
        "\n",
        "#pass: do nothing, acts as placeholder\n",
        "for i in range(1, 4):\n",
        "    if i == 2:\n",
        "        pass\n",
        "    print(i)"
      ],
      "metadata": {
        "id": "g0gC4lW2qgm_"
      },
      "execution_count": null,
      "outputs": []
    },
    {
      "cell_type": "markdown",
      "source": [
        "<h4>Loop with 'else'</h4>"
      ],
      "metadata": {
        "id": "92xfRRR5vIAS"
      }
    },
    {
      "cell_type": "code",
      "source": [
        "\n",
        "#Syntax-\n",
        "'''\n",
        "item in sequence\n",
        "if condition:\n",
        "    break:\n",
        "else:\n",
        "    print(\".....\")\n",
        "'''\n",
        "#This works the same as the both for & while loops\n",
        "\n",
        "#Loop with break\n",
        "for i in range(3):\n",
        "    if i == 3:\n",
        "     break\n",
        "    print(i)\n",
        "else:\n",
        "    print(\"Loop finished!\")#The else did not run, because loop ended with break.\n",
        "\n",
        "#Loop without break\n",
        "for i in range(17):\n",
        "    print(i)\n",
        "else:\n",
        "    print(\"Done!\")\n",
        "\n",
        "#to search somthing in loop with else\n",
        "names = [\"Prudhvi\", \"Sasi\", \"Navya\"]\n",
        "\n",
        "for name in names:\n",
        "    if name == \"Sai\":\n",
        "        print(\"Found Navya!\")\n",
        "        break\n",
        "else:\n",
        "    print(\"Sai not found\")"
      ],
      "metadata": {
        "id": "fvUzI1DEvQoW"
      },
      "execution_count": null,
      "outputs": []
    },
    {
      "cell_type": "markdown",
      "source": [
        "<h2> Nested Loops</h2>\n",
        "Loops inside loops"
      ],
      "metadata": {
        "id": "hCiCqpnf2J1j"
      }
    },
    {
      "cell_type": "code",
      "source": [
        "\n",
        "'''\n",
        "Syntax\n",
        "for i in range(outer):\n",
        "    for j in range(inner):\n",
        "'''\n",
        "\n",
        "#3x3 grid of *\n",
        "\n",
        "for i in range(7):\n",
        "  for j in range(7):\n",
        "      print(\"*\", end=\" \")\n",
        "  print()\n",
        "\n",
        "#right - angled triangle\n",
        "for p in range(1,7):\n",
        "  for q in range(p):\n",
        "    print(\"*\",end=\" \")\n",
        "  print()"
      ],
      "metadata": {
        "id": "bBTlByRK2aX6"
      },
      "execution_count": null,
      "outputs": []
    },
    {
      "cell_type": "markdown",
      "source": [
        "<h4>question on loops basic to ,medium level, higher level</h4>\n"
      ],
      "metadata": {
        "id": "Bor1FaIhOIAz"
      }
    },
    {
      "cell_type": "code",
      "source": [
        "#Print Numbers from 1 to 10:\n",
        "for i in range(1,11):\n",
        "  print(i)\n",
        "\n",
        "#Sum of All Even Numbers\n",
        "i = 0\n",
        "for num in range(1, 101):\n",
        "    if num % 2 == 0:\n",
        "      i += num\n",
        "\n",
        "print(\"Sum of even numbers from 1 to 100 is:\",i)\n",
        "\n",
        "#Multiplication Table:\n",
        "num = int(input(\"Enter a number: \"))\n",
        "for i in range(1,13):\n",
        "    print(f\"{num} x {i} = {num * i}\")\n",
        "\n",
        "\n",
        "#Print Odd Numbers with a Condition:\n",
        "for i in range(1,50):\n",
        "  if i % 5 != 0:\n",
        "    continue\n",
        "  if i % 2 !=0:\n",
        "    print(i)\n",
        "\n",
        "\n",
        "#Find First Multiple of 7 in a Sequence\n",
        "while True:\n",
        "    num = int(input(\"Enter a number: \"))\n",
        "    if num < 0:\n",
        "        break\n",
        "    if num % 7 == 0:\n",
        "        print(f\"{num} is a multiple of 7. Stopping the input.\")\n",
        "        break\n",
        "\n",
        "#List Reversal Using a Loop:\n",
        "my_list = [1, 2, 3, 4, 5]\n",
        "reversedlist  = []\n",
        "for i in range(len(my_list) - 1, -1, -1):\n",
        "    reversedlist.append(my_list[i])\n",
        "    print(reversedlist)\n",
        "\n",
        "#Multiplication Table Grid\n",
        "for i in range(1, 17):\n",
        "    for j in range(1, 15):\n",
        "        print(f\"{i*j:4}\", end=\"\")\n",
        "    print()\n",
        "\n",
        "#Find Factorial of a Number\n",
        "num = int(input(\"Enter a number: \"))\n",
        "factorial = 1\n",
        "for i in range(1, num + 1):\n",
        "    factorial *= i\n",
        "print(f\"Factorial of {num} is {factorial}\")\n",
        "\n",
        "#find the Largest Number in a List\n",
        "numbers = [3, 9, 1, 6, 2, 8]\n",
        "largest = numbers[0]\n",
        "for num in numbers:\n",
        "    if num > largest:\n",
        "        largest = num\n",
        "print(f\"Largest number is {largest}\")"
      ],
      "metadata": {
        "collapsed": true,
        "id": "-2kgnPw_P332"
      },
      "execution_count": null,
      "outputs": []
    },
    {
      "cell_type": "markdown",
      "source": [
        "<h2> Functions</h2>"
      ],
      "metadata": {
        "id": "2HNXjA4eE6W3"
      }
    },
    {
      "cell_type": "code",
      "source": [
        "#defining g calling functions\n",
        "'''using def functions\n",
        "understanding return\n",
        "'''\n",
        "#function :it is a block of code that only runs when it called\n",
        "'''syntax: def function_name()\n",
        "               print(\"this is a function\")\n",
        "'''\n",
        "def name():\n",
        "  print(\"hi prudhvi\")\n",
        "name()\n",
        "\n",
        "#return : it send back where the function is called.\n",
        "#using priint()\n",
        "def add(x,y):\n",
        "    print(x+y)\n",
        "add(7,7)\n",
        "\n",
        "#function: it is a block of code that only runs when it is called.\n",
        "def add(a,b):\n",
        "    print(a+b)\n",
        "add(5,5)\n",
        "\n",
        "#function arguments: Positional, defau, keyword\n",
        "#*ARGS & **kwargs for variabnumbof arguments\n",
        "#position: function ki exact order lo pass cheystaadhi\n",
        "def welcome(name, age):\n",
        "    print(f\"my name is {name} and I'm {age} years old!.\")\n",
        "welcome(\"prudhvi\",19)\n",
        "#*ARGS : arbitrary arguments\n",
        "'''syntax: def my_function(*ARGS):\n",
        "               print(ARGS)\n",
        " '''\n",
        "def anni(*args):\n",
        "    mottam = 0\n",
        "    for num in args:\n",
        "        mottam += num\n",
        "    return mottam\n",
        "\n",
        "print(\"mottam add cheste\",anni(1, 2, 3))\n",
        "print(\"mottam add cheste\",anni(5, 10, 15, 20))\n",
        "\n",
        "#Keyword Arguments\n",
        "def function(place1,place2,place3):\n",
        "  return(\"the best place is \"+place3)\n",
        "function(place1=\"nagpur\",place2=\"shiridi\",place3=\"kasi\")\n",
        "\n",
        "#Arbitrary Keyword Arguments, **kwargs\n",
        "def greet(**kwargs):\n",
        "    for key, value in kwargs.items():\n",
        "        print(f\"{key}: {value}\")\n",
        "greet(name=\"prudhvi\", age=19, city=\"kakinada\")\n",
        "\n",
        "#Default Parameter Value\n",
        "def my_function(country = \"VIZAG\"):\n",
        "  print(\"I am from \" + country)\n",
        "my_function(\"GOA\")\n",
        "my_function(\"India\")\n",
        "my_function()\n",
        "\n",
        "#Passing a List as an Argument\n",
        "def Food(food):\n",
        "  for x in food:\n",
        "    print(x)\n",
        "fruits = [\"kiwi\", \"Mango\", \"musk melon\"]\n",
        "Food(fruits)\n",
        "\n",
        "#Return Values\n",
        "def my_function(x):\n",
        "  return 7 * x\n",
        "print(my_function(2))\n",
        "print(my_function(4))\n",
        "print(my_function(6))\n",
        "\n",
        "#Positional-Only Arguments\n",
        "def my_function(*, x):\n",
        "  return(x)\n",
        "my_function(x = 45)\n",
        "\n",
        "#Combine Positional-Only and Keyword-Only\n",
        "def my_function(p, q, r, s):\n",
        "  return(p + q + r + s)\n",
        "\n",
        "my_function(7, 17, r = 70, s = 77)\n",
        "\n",
        "\n"
      ],
      "metadata": {
        "id": "rm2SAwDtFCqd"
      },
      "execution_count": null,
      "outputs": []
    },
    {
      "cell_type": "markdown",
      "source": [
        "<h4>scope of variables</h4>\n"
      ],
      "metadata": {
        "id": "Fgxq2XaBVDbI"
      }
    },
    {
      "cell_type": "code",
      "source": [
        "#Local Variables\n",
        "def greet():\n",
        "    name = \"Charmi\"\n",
        "    print(\"Hello\", name)\n",
        "\n",
        "#Global Variables\n",
        "age = 19\n",
        "def show_age():\n",
        "    print(\"Age is\", age)\n",
        "show_age()\n",
        "print(age)\n",
        "\n",
        "#global Keyword : modify a global variable from inside a function.\n",
        "count = 0\n",
        "def update():\n",
        "    global count\n",
        "    count = count + 1\n",
        "    print(count)\n",
        "update()\n",
        "print(count)\n"
      ],
      "metadata": {
        "id": "kIfR2L6KVOaE"
      },
      "execution_count": null,
      "outputs": []
    },
    {
      "cell_type": "markdown",
      "source": [
        "<h3>lambda functions</h3>\n"
      ],
      "metadata": {
        "id": "fKeirjY0Vk7u"
      }
    },
    {
      "cell_type": "code",
      "source": [
        "#lambda: no def or name required\n",
        "#syntax: lambda arguments: expression\n",
        "x = lambda a: a * 10\n",
        "print(x(5))\n",
        "\n",
        "#Multiply of two aruguments\n",
        "add = lambda x, y: x + y\n",
        "print(add(2, 3))\n",
        "\n",
        "#LAMBDA WITH MAP()\n",
        "nums = [1, 2, 3, 4]\n",
        "squares = list(map(lambda x: x**2, nums))\n",
        "print(squares)\n",
        "\n",
        "#Lambda with  filter()\n",
        "nums = [1, 2, 3, 4, 5, 6]\n",
        "evens = list(filter(lambda x: x % 2 == 0, nums))\n",
        "print(evens)\n",
        "\n",
        "#Using Lambda with sorted()\n",
        "students = [('prudhvi', 90), ('sasi', 85), ('manoj', 95)]\n",
        "\n",
        "# Sort by marks\n",
        "sorted_list = sorted(students, key=lambda x: x[1])\n",
        "print(sorted_list)"
      ],
      "metadata": {
        "colab": {
          "base_uri": "https://localhost:8080/"
        },
        "id": "orWEn7UCVsyO",
        "outputId": "eab66be3-0000-4e75-f57a-169fda5ff2f7"
      },
      "execution_count": 31,
      "outputs": [
        {
          "output_type": "stream",
          "name": "stdout",
          "text": [
            "50\n",
            "5\n",
            "[1, 4, 9, 16]\n",
            "[2, 4, 6]\n",
            "[('sasi', 85), ('prudhvi', 90), ('manoj', 95)]\n"
          ]
        }
      ]
    }
  ]
}